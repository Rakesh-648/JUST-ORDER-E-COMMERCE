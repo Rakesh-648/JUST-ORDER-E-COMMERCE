{
  "nbformat": 4,
  "nbformat_minor": 0,
  "metadata": {
    "colab": {
      "provenance": [],
      "authorship_tag": "ABX9TyNjOzE/KDQE9hTMDBGZDoVR",
      "include_colab_link": true
    },
    "kernelspec": {
      "name": "python3",
      "display_name": "Python 3"
    },
    "language_info": {
      "name": "python"
    }
  },
  "cells": [
    {
      "cell_type": "markdown",
      "metadata": {
        "id": "view-in-github",
        "colab_type": "text"
      },
      "source": [
        "<a href=\"https://colab.research.google.com/github/Rakesh-648/python_codes/blob/main/python_short_programs.ipynb\" target=\"_parent\"><img src=\"https://colab.research.google.com/assets/colab-badge.svg\" alt=\"Open In Colab\"/></a>"
      ]
    },
    {
      "cell_type": "code",
      "execution_count": null,
      "metadata": {
        "colab": {
          "base_uri": "https://localhost:8080/"
        },
        "id": "zKAOk-cOSWwF",
        "outputId": "6871cb36-f6ea-4970-866d-de060cee080b"
      },
      "outputs": [
        {
          "output_type": "stream",
          "name": "stdout",
          "text": [
            "program to find average and sum of two numbers\n",
            "enter the firt number12\n",
            "enter the second number12\n",
            "sum of first two numbers is24\n",
            "average of first and second number is12\n"
          ]
        }
      ],
      "source": [
        "#read two nnumber and print their sum and average\n",
        "print(\"program to find average and sum of two numbers\")\n",
        "a=int(input(\"enter the firt number\"))\n",
        "b=int(input(\"enter the second number\"))\n",
        "print(f\"sum of first two numbers is{a+b}\")\n",
        "print(f\"average of first and second number is{int((a+b)/2)}\")"
      ]
    },
    {
      "cell_type": "code",
      "source": [
        "#calculate area of a traingle\n",
        "import re\n",
        "print(\"Program to find the area of a triangle\")\n",
        "a, b = map(int, re.split(r'[,\\s+]+', input(\"Enter the height and base: \").strip()))# Taking input and splitting it based on commas, spaces, or plus signs using regex\n",
        "area = int(0.5 * a * b)\n",
        "print(f\"Area of the triangle is {area}\")\n"
      ],
      "metadata": {
        "colab": {
          "base_uri": "https://localhost:8080/"
        },
        "id": "HUiLrgqIaA1X",
        "outputId": "76a971d4-f3e4-4c26-f448-8378837d400b"
      },
      "execution_count": null,
      "outputs": [
        {
          "output_type": "stream",
          "name": "stdout",
          "text": [
            "Program to find the area of a triangle\n",
            "Enter the height and base: 12 13\n",
            "Area of the triangle is 78\n"
          ]
        }
      ]
    },
    {
      "cell_type": "code",
      "source": [
        "#swapping two numbers\n",
        "import re\n",
        "print(\"Program to swap the values of two variables\")\n",
        "a, b = map(int, re.split(r'[+\\s,]+', input(\"Enter the two values: \").strip()))\n",
        "print(\"Swapped values are:\", *(b, a))\n"
      ],
      "metadata": {
        "colab": {
          "base_uri": "https://localhost:8080/"
        },
        "id": "ZgXLhx7FhYb8",
        "outputId": "008cddbf-4744-45bd-acfe-a52a61aec300"
      },
      "execution_count": null,
      "outputs": [
        {
          "output_type": "stream",
          "name": "stdout",
          "text": [
            "Program to swap the values of two variables\n",
            "Enter the two values: 12 13\n",
            "Swapped values are: 13 12\n"
          ]
        }
      ]
    },
    {
      "cell_type": "code",
      "source": [
        "# Find x to the power y for given x and y values.\n",
        "import re\n",
        "print(\"program to fint rhe power of given value\")\n",
        "x,y=map(int, re.split(r'[+\\s,]+',input(\"enter number x and y:\").strip()))\n",
        "print(f\"number entered is{x},{y}.The power of y over x is{x**y}\")"
      ],
      "metadata": {
        "colab": {
          "base_uri": "https://localhost:8080/"
        },
        "id": "b5jmkQwXiWrR",
        "outputId": "25decbe9-e2b2-42f4-daaf-3b73f1e541a5"
      },
      "execution_count": null,
      "outputs": [
        {
          "output_type": "stream",
          "name": "stdout",
          "text": [
            "program to fint rhe power of given value\n",
            "enter number x and y:12 2\n",
            "number entered is12,2.The power of y over x is144\n"
          ]
        }
      ]
    },
    {
      "cell_type": "code",
      "source": [
        "#program to convert from temperters between kelvin,celcius and farenhite by user inputted to desired type\n",
        "\n",
        "def temp_converter():\n",
        "  temp=int(input(\"enter the temperature\"))\n",
        "  option=int(input(\"select the option to convert from which from the following \\n1.C to F\\n2.C to K\\n3.K to F\\n4.F to C\\n5.F to K\\n6.K to F\\n\"))\n",
        "  if option==1:\n",
        "    print(f\"{temp*(9/5)+32}\")\n",
        "  elif option==2:\n",
        "    print(f\"{temp+273.15}\")\n",
        "  elif option==3:\n",
        "    print(f\"{temp*(9/5)-459.67}\")\n",
        "  elif option==4:\n",
        "    print(f\"{temp*(5/9)}\")\n",
        "  elif option==5:\n",
        "    print(f\"{temp*(5/9)+273.15}\")\n",
        "  elif  option==6:\n",
        "    print(f\"{temp*(9/5)-273.15}\")\n",
        "  else:\n",
        "    print(\"invalid option\")\n",
        "\n",
        "\n",
        "\n",
        "temp_converter()\n"
      ],
      "metadata": {
        "colab": {
          "base_uri": "https://localhost:8080/"
        },
        "id": "gs8pDYo0kH3P",
        "outputId": "5cadc265-5aae-4d91-83f2-464b61ee0347"
      },
      "execution_count": null,
      "outputs": [
        {
          "output_type": "stream",
          "name": "stdout",
          "text": [
            "enter the temperature256\n",
            "select the option to convert from which from the following \n",
            "1.C to F\n",
            "2.C to K\n",
            "3.K to F\n",
            "4.F to C\n",
            "5.F to K\n",
            "6.K to F\n",
            "4\n",
            "142.22222222222223\n"
          ]
        }
      ]
    }
  ]
}