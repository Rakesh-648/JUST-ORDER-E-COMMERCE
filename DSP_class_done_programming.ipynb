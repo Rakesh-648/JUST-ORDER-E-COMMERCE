{
  "nbformat": 4,
  "nbformat_minor": 0,
  "metadata": {
    "colab": {
      "provenance": [],
      "authorship_tag": "ABX9TyMPd3lijVBK3/MxEE54xVL8",
      "include_colab_link": true
    },
    "kernelspec": {
      "name": "python3",
      "display_name": "Python 3"
    },
    "language_info": {
      "name": "python"
    }
  },
  "cells": [
    {
      "cell_type": "markdown",
      "metadata": {
        "id": "view-in-github",
        "colab_type": "text"
      },
      "source": [
        "<a href=\"https://colab.research.google.com/github/Rakesh-648/JUST-ORDER-E-COMMERCE/blob/main/DSP_class_done_programming.ipynb\" target=\"_parent\"><img src=\"https://colab.research.google.com/assets/colab-badge.svg\" alt=\"Open In Colab\"/></a>"
      ]
    },
    {
      "cell_type": "markdown",
      "source": [
        "\n",
        "\n"
      ],
      "metadata": {
        "id": "peo50TJ8S_4s"
      }
    },
    {
      "cell_type": "code",
      "source": [
        "#example conditional class done programming\n",
        "print(\"comparing number\")\n",
        "a=int(input(\"enter the first comparing number\"))\n",
        "b=int(input(\"enter the second comparing number\"))\n",
        "if a<b:\n",
        "  print(b,\"is greater then\",a)\n",
        "elif a>b:\n",
        "  print(a,\"is greater then\",b)\n",
        "else:\n",
        "  print(b,a,\"is equal\")\n"
      ],
      "metadata": {
        "colab": {
          "base_uri": "https://localhost:8080/"
        },
        "id": "TZs22JVmJgpG",
        "outputId": "c34a31a0-94d5-4d06-db3d-77176cb8861b"
      },
      "execution_count": null,
      "outputs": [
        {
          "output_type": "stream",
          "name": "stdout",
          "text": [
            "comparing number\n",
            "enter the first comparing number12\n",
            "enter the second comparing number13\n",
            "13 is greater then 12\n"
          ]
        }
      ]
    },
    {
      "cell_type": "code",
      "source": [
        "#example loops done in class\n",
        "for i in range(0, 10, 1):\n",
        "  print(\"the current index is:\")\n",
        "  print(i)"
      ],
      "metadata": {
        "colab": {
          "base_uri": "https://localhost:8080/"
        },
        "id": "DXdROPbZMmd0",
        "outputId": "5a30f478-aac9-43af-b2fe-63718be0c841"
      },
      "execution_count": null,
      "outputs": [
        {
          "output_type": "stream",
          "name": "stdout",
          "text": [
            "the current index is:\n",
            "0\n",
            "the current index is:\n",
            "1\n",
            "the current index is:\n",
            "2\n",
            "the current index is:\n",
            "3\n",
            "the current index is:\n",
            "4\n",
            "the current index is:\n",
            "5\n",
            "the current index is:\n",
            "6\n",
            "the current index is:\n",
            "7\n",
            "the current index is:\n",
            "8\n",
            "the current index is:\n",
            "9\n"
          ]
        }
      ]
    },
    {
      "cell_type": "code",
      "source": [
        "#example loops done in class\n",
        "j=0\n",
        "while(j<a):\n",
        " print(\"value of j is:\",j)\n",
        " j += 1\n",
        " if (j==6 ):\n",
        "  break"
      ],
      "metadata": {
        "colab": {
          "base_uri": "https://localhost:8080/"
        },
        "id": "TgxY41i-NVBm",
        "outputId": "1c4d8751-62ed-41be-8ed3-936935e25297"
      },
      "execution_count": null,
      "outputs": [
        {
          "output_type": "stream",
          "name": "stdout",
          "text": [
            "value of j is: 0\n",
            "value of j is: 1\n",
            "value of j is: 2\n",
            "value of j is: 3\n",
            "value of j is: 4\n",
            "value of j is: 5\n"
          ]
        }
      ]
    },
    {
      "cell_type": "code",
      "source": [
        "#example loops done in class\n",
        "for i in range(3):\n",
        "  for j in range(0,2):\n",
        "    print(\"i and j are:\", i, j )"
      ],
      "metadata": {
        "colab": {
          "base_uri": "https://localhost:8080/"
        },
        "id": "OdA4e3GZO6n5",
        "outputId": "a283b275-9049-4347-c40e-05cc95c08390"
      },
      "execution_count": null,
      "outputs": [
        {
          "output_type": "stream",
          "name": "stdout",
          "text": [
            "i and j are: 0 0\n",
            "i and j are: 0 1\n",
            "i and j are: 1 0\n",
            "i and j are: 1 1\n",
            "i and j are: 2 0\n",
            "i and j are: 2 1\n"
          ]
        }
      ]
    },
    {
      "cell_type": "code",
      "source": [
        "num1=int(input(\"enter the first number\"))\n",
        "num2=int(input(\"enter the second number\"))\n",
        "op=input(\"enter the operaton + - * // ** to perform:\")\n",
        "if (op==\"+\"):\n",
        "  print(num1+num2)\n",
        "elif op==\"-\":\n",
        "  print(num1-num2)\n",
        "elif op==\"*\":\n",
        "  print(num1*num2)\n",
        "elif op==\"//\":\n",
        "  print(num1//num2)\n",
        "elif op==\"**\":\n",
        "  print(num1**num2)\n",
        "else:\n",
        "  print(\"invalid operation\")"
      ],
      "metadata": {
        "colab": {
          "base_uri": "https://localhost:8080/"
        },
        "id": "x3KHyeFzQyIs",
        "outputId": "95e6c4fc-e169-4638-e7bb-cb59b51d66b9"
      },
      "execution_count": null,
      "outputs": [
        {
          "output_type": "stream",
          "name": "stdout",
          "text": [
            "enter the first number12\n",
            "enter the second number2\n",
            "enter the operaton + - * // ** to perform:+\n",
            "14\n"
          ]
        }
      ]
    }
  ]
}