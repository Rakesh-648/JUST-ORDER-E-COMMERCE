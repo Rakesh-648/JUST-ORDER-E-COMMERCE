{
  "nbformat": 4,
  "nbformat_minor": 0,
  "metadata": {
    "colab": {
      "provenance": [],
      "authorship_tag": "ABX9TyMO1mmZD5rIOg18t7rOYWBk",
      "include_colab_link": true
    },
    "kernelspec": {
      "name": "python3",
      "display_name": "Python 3"
    },
    "language_info": {
      "name": "python"
    }
  },
  "cells": [
    {
      "cell_type": "markdown",
      "metadata": {
        "id": "view-in-github",
        "colab_type": "text"
      },
      "source": [
        "<a href=\"https://colab.research.google.com/github/Rakesh-648/python_codes/blob/main/python_record_programs.ipynb\" target=\"_parent\"><img src=\"https://colab.research.google.com/assets/colab-badge.svg\" alt=\"Open In Colab\"/></a>"
      ]
    },
    {
      "cell_type": "code",
      "source": [
        "def calculator():\n",
        "  print(\"Simple calculaotor\")\n",
        "  num1 = float(input(\"Enter the First number:\"))\n",
        "  num2 = float(input(\"Enter the Second number:\"))\n",
        "  print(\"1. Add\")\n",
        "  print(\"2. Subtract\")\n",
        "  print(\"3. Multiplication\")\n",
        "  print(\"4. Division\")\n",
        "  print(\"5. Modulus\")\n",
        "  print(\"6. Exponention\")\n",
        "  print(\"7. Floor Division\")\n",
        "  choice = input(\"Enter choice(1/2/3/4/5/6/7):\")\n",
        "  if choice == '1':\n",
        "      print(f\"Result = {num1} + {num2} = {num1 + num2}\")\n",
        "  elif choice == '2':\n",
        "        print(f\"Result = {num1} - {num2} = {num1 - num2}\")\n",
        "  elif choice == '3':\n",
        "        print(f\"Result = {num1} * {num2} = {num1 * num2}\")\n",
        "  elif choice == '4':\n",
        "    if num2 !=0:\n",
        "      print(f\"Result = {num1} / {num2} = {num1 / num2 }\")\n",
        "    else :\n",
        "        print(\"Error ! Division is zero\")\n",
        "  elif choice == '5':\n",
        "        print(f\"Result = {num1} % {num2} = {num1 % num2}\")\n",
        "  elif choice == '6':\n",
        "         print(f\"Result = {num1} * {num2} = {num1 * num2}\")\n",
        "  elif choice == '7':\n",
        "        print(f\"Result = {num1} // {num2} = {num1 // num2}\")\n",
        "  else :\n",
        "    print(\"Invalid Input\")\n",
        "calculator()"
      ],
      "metadata": {
        "colab": {
          "base_uri": "https://localhost:8080/"
        },
        "id": "b6z4fMdVGGZe",
        "outputId": "8b1653d8-bb05-45a7-cb76-889360e3e9ab"
      },
      "execution_count": null,
      "outputs": [
        {
          "output_type": "stream",
          "name": "stdout",
          "text": [
            "Simple calculaotor\n",
            "Enter the First number:12\n",
            "Enter the Second number:13\n",
            "1. Add\n",
            "2. Subtract\n",
            "3. Multiplication\n",
            "4. Division\n",
            "5. Modulus\n",
            "6. Exponention\n",
            "7. Floor Division\n",
            "Enter choice(1/2/3/4/5/6/7):2\n",
            "Result = 12.0 - 13.0 = -1.0\n"
          ]
        }
      ]
    }
  ]
}