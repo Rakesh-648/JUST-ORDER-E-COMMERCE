{
  "nbformat": 4,
  "nbformat_minor": 0,
  "metadata": {
    "colab": {
      "provenance": [],
      "authorship_tag": "ABX9TyOg1FYLDp23DdbGv00bv8JI",
      "include_colab_link": true
    },
    "kernelspec": {
      "name": "python3",
      "display_name": "Python 3"
    },
    "language_info": {
      "name": "python"
    }
  },
  "cells": [
    {
      "cell_type": "markdown",
      "metadata": {
        "id": "view-in-github",
        "colab_type": "text"
      },
      "source": [
        "<a href=\"https://colab.research.google.com/github/Rakesh-648/python_codes/blob/main/datastructure_using_python_programs_lab.ipynb\" target=\"_parent\"><img src=\"https://colab.research.google.com/assets/colab-badge.svg\" alt=\"Open In Colab\"/></a>"
      ]
    },
    {
      "cell_type": "code",
      "execution_count": null,
      "metadata": {
        "id": "BGe9_Lv9d0Eu"
      },
      "outputs": [],
      "source": []
    },
    {
      "cell_type": "code",
      "source": [
        "#progam 1 :write a program to find the largest and smallest element in array\n",
        "def find_largest_and__smallest(arr):\n",
        "    if not arr:\n",
        "        return None, None\n",
        "    largest = smallest = arr[0]\n",
        "    for num in arr:\n",
        "        if num > largest:\n",
        "            largest = num\n",
        "        if num < smallest:\n",
        "            smallest = num\n",
        "    return largest, smallest\n",
        "\n",
        "array=[3,5,1,8,-3,7,2]\n",
        "largest,smallest=find_largest_and__smallest(array)\n",
        "print(\"largest:\",largest)\n",
        "print(\"smallest:\",smallest)"
      ],
      "metadata": {
        "colab": {
          "base_uri": "https://localhost:8080/"
        },
        "id": "kdqp_rhZfCo9",
        "outputId": "d680e30d-fe59-46fd-b2c5-b1d7c7035b8d"
      },
      "execution_count": null,
      "outputs": [
        {
          "output_type": "stream",
          "name": "stdout",
          "text": [
            "largest: 8\n",
            "smallest: -3\n"
          ]
        }
      ]
    },
    {
      "cell_type": "code",
      "source": [
        "#activity 1:write the program to find the second largest and smalest element in an array\n",
        "def find_second_largest_and_smallest(arr):\n",
        "    if len(arr) < 2:\n",
        "        return None, None\n",
        "\n",
        "\n",
        "    largest = second_largest = float('-inf')\n",
        "    smallest = second_smallest = float('inf')\n",
        "\n",
        "    for num in arr:\n",
        "\n",
        "        if num > largest:\n",
        "            second_largest = largest\n",
        "            largest = num\n",
        "        elif num > second_largest and num != largest:\n",
        "            second_largest = num\n",
        "\n",
        "\n",
        "        if num < smallest:\n",
        "            second_smallest = smallest\n",
        "            smallest = num\n",
        "        elif num < second_smallest and num != smallest:\n",
        "            second_smallest = num\n",
        "\n",
        "\n",
        "    if second_largest == float('-inf'):\n",
        "        second_largest = None\n",
        "    if second_smallest == float('inf'):\n",
        "        second_smallest = None\n",
        "\n",
        "    return second_largest, second_smallest\n",
        "\n",
        "# Example usage\n",
        "array = [3, 5, 1, 8, -3, 7, 2]\n",
        "second_largest, second_smallest = find_second_largest_and_smallest(array)\n",
        "print(\"Second largest:\", second_largest)\n",
        "print(\"Second smallest:\", second_smallest)\n",
        "\n"
      ],
      "metadata": {
        "colab": {
          "base_uri": "https://localhost:8080/"
        },
        "id": "zLY3fp9fgG9D",
        "outputId": "ad6fdc4a-daa5-4f58-fbf4-5d8ef0a14624"
      },
      "execution_count": null,
      "outputs": [
        {
          "output_type": "stream",
          "name": "stdout",
          "text": [
            "Second largest: 7\n",
            "Second smallest: 1\n"
          ]
        }
      ]
    },
    {
      "cell_type": "code",
      "source": [
        "#program 2\n",
        "#write a program to find the factorial of number using recursion\n",
        "#write a program to find the nth fibinacci number using recursion\n",
        "def factorial(n):\n",
        "    if n == 0 or n == 1:\n",
        "        return 1\n",
        "    else:\n",
        "        return n * factorial(n - 1)\n",
        "\n",
        "# Program to find the nth Fibonacci number using recursion\n",
        "def fibonacci(n):\n",
        "    if n == 0:\n",
        "        return 0\n",
        "    elif n == 1:\n",
        "        return 1\n",
        "    else:\n",
        "        return fibonacci(n - 1) + fibonacci(n - 2)\n",
        "\n",
        "# Example usage\n",
        "number = 5\n",
        "\n",
        "# Factorial of the number\n",
        "fact = factorial(number)\n",
        "print(f\"The factorial of {number} is {fact}\")\n",
        "\n",
        "number=6\n",
        "fib = fibonacci(number)\n",
        "print(f\"The {number}th Fibonacci number is {fib}\")\n"
      ],
      "metadata": {
        "colab": {
          "base_uri": "https://localhost:8080/"
        },
        "id": "_HJ2vRTokXMb",
        "outputId": "bd4cd39d-9a7d-406a-d104-204c45a62033"
      },
      "execution_count": null,
      "outputs": [
        {
          "output_type": "stream",
          "name": "stdout",
          "text": [
            "The factorial of 5 is 120\n",
            "The 6th Fibonacci number is 8\n"
          ]
        }
      ]
    },
    {
      "cell_type": "code",
      "source": [
        "#Activity 2\n",
        "#write a program to find sum of the digits of number using recursion\n",
        "def sum_of_digits(n):\n",
        "\n",
        "        return n\n",
        "    else:\n",
        "        return n % 10 + sum_of_digits(n // 10)\n",
        "\n",
        "# Example usage\n",
        "number = 12345\n",
        "result = sum_of_digits(number)\n",
        "print(f\"The sum of the digits of {number} is {result}\")\n"
      ],
      "metadata": {
        "colab": {
          "base_uri": "https://localhost:8080/"
        },
        "id": "1iKtqHhQuIhZ",
        "outputId": "628bfac8-489a-4c7c-fe9a-21c3625fc131"
      },
      "execution_count": null,
      "outputs": [
        {
          "output_type": "stream",
          "name": "stdout",
          "text": [
            "The sum of the digits of 12345 is 15\n"
          ]
        }
      ]
    },
    {
      "cell_type": "code",
      "source": [
        "#activity 3\n",
        "#write a python program that sets up a sudoku 9*9 grid and include a function to find a number in specific 3*3 grid\n",
        "def find_grid_number(row, col):\n",
        "    \"\"\"\n",
        "    Finds the 3x3 sub-grid number for a given row and column in a 9x9 Sudoku grid.\n",
        "    \"\"\"\n",
        "    grid_number = (row // 3) * 3 + (col // 3)\n",
        "    return grid_number\n",
        "\n",
        "\n",
        "# Example usage:\n",
        "# Input: row and column numbers (0-based indexing)\n",
        "row = int(input(\"Enter row (0-8): \"))\n",
        "col = int(input(\"Enter column (0-8): \"))\n",
        "\n",
        "# Output: grid number\n",
        "grid = find_grid_number(row, col)\n",
        "print(f\"The grid number for row {row} and column {col} is: {grid}\")"
      ],
      "metadata": {
        "colab": {
          "base_uri": "https://localhost:8080/"
        },
        "id": "aWyfjtfpvDEV",
        "outputId": "67bcf6f7-a982-49ff-cacb-50e2222b8292"
      },
      "execution_count": null,
      "outputs": [
        {
          "output_type": "stream",
          "name": "stdout",
          "text": [
            "Enter row (0-8): 3\n",
            "Enter column (0-8): 1\n",
            "The grid number for row 3 and column 1 is: 3\n"
          ]
        }
      ]
    },
    {
      "cell_type": "code",
      "source": [
        "#activity 4\n",
        "#write a program to create a class/structure node to represent a\n",
        "#node in a singly linked list .implement a search function to check if a given\n",
        "#number is present in the list and print \"yes\" or \"no\"\n",
        "def sum_of_digits(n):\n",
        "    # Base case: if the number is a single digit\n",
        "    if n < 10:\n",
        "        return n\n",
        "    else:\n",
        "        # Recursive case: add the last digit to the sum of the remaining digits\n",
        "        return n % 10 + sum_of_digits(n // 10)\n",
        "\n",
        "# Example usage\n",
        "number = 12345\n",
        "result = sum_of_digits(number)\n",
        "print(f\"The sum of the digits of {number} is {result}\")\n"
      ],
      "metadata": {
        "colab": {
          "base_uri": "https://localhost:8080/"
        },
        "id": "rUMsvwv-wZNw",
        "outputId": "76b49ae8-cdf9-4aa1-feb9-38c5b83ee2b8"
      },
      "execution_count": null,
      "outputs": [
        {
          "output_type": "stream",
          "name": "stdout",
          "text": [
            "The sum of the digits of 12345 is 15\n"
          ]
        }
      ]
    },
    {
      "cell_type": "code",
      "source": [
        "#activity 5\n",
        "#write a program to creat a class/structure node to represent a node in a singly listed list.\n",
        "class Node:\n",
        "    def __init__(self, data):\n",
        "\n",
        "        Constructor to initialize a node.\n",
        "        :param data: The value to store in the node.\n",
        "\n",
        "        self.data = data\n",
        "        self.next = None\n",
        "\n",
        "\n",
        "# Example usage:\n",
        "# Creating nodes\n",
        "node1 = Node(10)\n",
        "node2 = Node(20)\n",
        "\n",
        "\n",
        "node1.next = node2\n",
        "\n",
        "\n",
        "current = node1\n",
        "while current:\n",
        "    print(current.data, end=\" -> \")\n",
        "    current = current.next\n",
        "print(\"None\")\n",
        "\n"
      ],
      "metadata": {
        "id": "9sQlz4X1xNao",
        "colab": {
          "base_uri": "https://localhost:8080/"
        },
        "outputId": "b2785be8-49c4-4886-a54c-5084d855551a"
      },
      "execution_count": null,
      "outputs": [
        {
          "output_type": "stream",
          "name": "stdout",
          "text": [
            "10 -> 20 -> None\n"
          ]
        }
      ]
    },
    {
      "cell_type": "code",
      "source": [],
      "metadata": {
        "id": "zH7E0CzvpB38"
      },
      "execution_count": null,
      "outputs": []
    }
  ]
}